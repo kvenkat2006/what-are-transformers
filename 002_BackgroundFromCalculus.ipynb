{
 "cells": [
  {
   "cell_type": "markdown",
   "metadata": {},
   "source": [
    "# <span style=\"color:red\">Background from Calculus</span>\n"
   ]
  },
  {
   "cell_type": "markdown",
   "metadata": {},
   "source": [
    "This write up is to help you recall Chain Rule from Calculus that is used in backpropagation."
   ]
  },
  {
   "cell_type": "markdown",
   "metadata": {},
   "source": [
    "Suppose we have two functions $f$ and $g$, where $y(x) = f(g(x))$. Chain rule gives you the derivative of $y$ w.r.t $x$."
   ]
  },
  {
   "cell_type": "markdown",
   "metadata": {},
   "source": [
    "#### <span style=\"color:red\">Chain Rule for Dervative of functions of single variables</span>\n",
    "\n",
    "If $y = f(u)$ and $u = g(x)$, then the derivative of y w.r.t $x$ is given by \n",
    "$$ \\frac{dy}{dx} = \\frac{dy}{du} \\cdot \\frac{du}{dx} $$"
   ]
  },
  {
   "cell_type": "markdown",
   "metadata": {},
   "source": [
    "#### <span style=\"color:red\">Chain Rule for Multivariable Functions</span>\n"
   ]
  },
  {
   "cell_type": "markdown",
   "metadata": {},
   "source": [
    "<span style=\"color:red\">We will be interested in the following case were we have a function of a single variable which in turn is a function of many vaviables</span>\n",
    "\n",
    "If $f = f(z)$ and $z = z(u,v)$, then \n",
    "\n",
    "$\\frac {\\partial f}{\\partial u} = \\frac{df}{dz}  \\frac{\\partial z}{\\partial u} $ and \n",
    "\n",
    "$\\frac {\\partial f}{\\partial v} = \\frac{df}{dz}  \\frac{\\partial z}{\\partial v} $\n",
    "\n",
    "<span style=\"color:red\">Here is the formula for the general case: </span>\n",
    "Suppose $u = f(x_1, x_2, ..., x_n)$ where each $x_i$ is a function of another set of variables $t_1, t_2, ... t_m$. Then the chain rule can be stated as follows:\n",
    "$$\\frac{\\partial u}{\\partial t_j} = \\sum_{i=1}^{n} \\frac{\\partial u}{\\partial x_i} \\frac{\\partial x_i}{\\partial t_j}$$ "
   ]
  },
  {
   "cell_type": "markdown",
   "metadata": {},
   "source": [
    "Now, let us see how this gets applied in learning model parameters. (Read [003_Multi Layer Perceptrons.](<./003_Multi Layer Perceptrons.ipynb>) to get the context)\n",
    "\n",
    "Consider a neural network that has only one hidden layer:\n",
    "\n",
    "Input: $x$\n",
    "\n",
    "Hidden Layer: $a^{(1)} = \\sigma(W^{(1)}x + b^{(1)}) $\n",
    "\n",
    "Output Layer: $y = \\sigma(W^{(2)}a^{(1)} + b^{(2)}) $\n",
    "\n",
    "Loss Function: $L = (y-\\hat{y})^{2} $ where $\\hat{y}$ is the true label\n",
    "\n"
   ]
  },
  {
   "cell_type": "markdown",
   "metadata": {},
   "source": [
    "Note that <p style=\"text-align: center;\">  \n",
    "$ \\frac{\\partial L}{\\partial y} = 2(y - \\hat{y})     $  &emsp; &emsp; &emsp; &emsp; &emsp; &emsp; ...   (1) </p> "
   ]
  },
  {
   "cell_type": "markdown",
   "metadata": {},
   "source": [
    "Now,the objective is to learn weights $W^{(1)}$, $W^{(2)}$, and biases $b^{(1)}, b^{(2)}$"
   ]
  },
  {
   "cell_type": "markdown",
   "metadata": {},
   "source": [
    "$$ \n",
    " \\frac{\\partial L}{\\partial W^{(2)}} = \\frac{\\partial L}{\\partial y} \\cdot \\frac{\\partial y}{\\partial W^{(2)}}   \n",
    " $$   \n",
    "\n",
    "Since $y = \\sigma(W^{(2)}a^{(1)} + b^{(2)}) $:\n",
    " &emsp;&emsp; $$ \\frac{\\partial y}{\\partial W^{(2)}} = \\sigma'(W^{(2)} a^{(1)} + b^{(2)}) \\cdot a^{(1)} $$\n",
    "\n",
    " Now,  $ \\frac{\\partial y}{\\partial W^{(2)}} $ is the matrix whose $(i,j)^{th}$ entry is $ \\frac{\\partial y}{\\partial {W^{(2)}_{ij}}} $"
   ]
  },
  {
   "cell_type": "markdown",
   "metadata": {},
   "source": [
    "$ \\frac{\\partial y}{\\partial W^{(2)}_{ij}} = \\frac{\\partial y}{\\partial z^{(2)}_i} \\cdot \\frac{\\partial z^{(2)}i}{\\partial W^{(2)}{ij}} $  and $ \\frac{\\partial y}{\\partial z^{(2)}_i} = \\sigma'(z^{(2)}_i) $"
   ]
  },
  {
   "cell_type": "markdown",
   "metadata": {},
   "source": [
    "-----------"
   ]
  },
  {
   "cell_type": "markdown",
   "metadata": {},
   "source": [
    "So, $$ \\frac{\\partial y}{\\partial W^{(2)}_{ij}} = \\sigma'(z^{(2)}_i) \\cdot a^{(1)}_j $$"
   ]
  },
  {
   "cell_type": "markdown",
   "metadata": {
    "vscode": {
     "languageId": "plaintext"
    }
   },
   "source": [
    "$ \\sigma(x) = \\frac{1}{1 + e^{-x}} $, and by chain rule we have: $ f'(x) = \\frac{u'(x)v(x) - u(x)v'(x)}{[v(x)]^2} $. So, $ \\sigma'(x) = \\sigma(x) \\cdot (1 - \\sigma(x)) $\n",
    "\n",
    "Thus:  $$ \\frac{\\partial y}{\\partial W^{(2)}_{ij}} =  \\sigma(x) \\cdot (1 - \\sigma(x)) \\cdot a^{(1)}_j $$\n",
    "\n",
    "And, finally using this in $(1)$, $$ \\frac{\\partial L}{\\partial W^{(2)}} = \\frac{\\partial L}{\\partial y} \\cdot \\sigma(x) \\cdot (1 - \\sigma(x)) \\cdot a^{(1)}_j  $$ \n"
   ]
  },
  {
   "cell_type": "markdown",
   "metadata": {},
   "source": [
    "----------"
   ]
  },
  {
   "cell_type": "markdown",
   "metadata": {},
   "source": []
  }
 ],
 "metadata": {
  "kernelspec": {
   "display_name": "Python 3 (ipykernel)",
   "language": "python",
   "name": "python3"
  },
  "language_info": {
   "codemirror_mode": {
    "name": "ipython",
    "version": 3
   },
   "file_extension": ".py",
   "mimetype": "text/x-python",
   "name": "python",
   "nbconvert_exporter": "python",
   "pygments_lexer": "ipython3",
   "version": "3.12.8"
  }
 },
 "nbformat": 4,
 "nbformat_minor": 4
}
